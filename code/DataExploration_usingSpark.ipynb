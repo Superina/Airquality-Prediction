{
 "cells": [
  {
   "cell_type": "code",
   "execution_count": 1,
   "metadata": {
    "collapsed": true
   },
   "outputs": [],
   "source": [
    "import pyspark"
   ]
  },
  {
   "cell_type": "code",
   "execution_count": 2,
   "metadata": {
    "collapsed": false
   },
   "outputs": [],
   "source": [
    "sc = pyspark.SparkContext()"
   ]
  },
  {
   "cell_type": "code",
   "execution_count": 3,
   "metadata": {
    "collapsed": true
   },
   "outputs": [],
   "source": [
    "data = sc.textFile('../data/particulates/hourly_88101_2015.csv')\n",
    "sample = data.sample(withReplacement=False,fraction=0.001,seed=42)"
   ]
  },
  {
   "cell_type": "code",
   "execution_count": 16,
   "metadata": {
    "collapsed": false
   },
   "outputs": [
    {
     "data": {
      "text/plain": [
       "[u'\"State Code\",\"County Code\",\"Site Num\",\"Parameter Code\",\"POC\",\"Latitude\",\"Longitude\",\"Datum\",\"Parameter Name\",\"Date Local\",\"Time Local\",\"Date GMT\",\"Time GMT\",\"Sample Measurement\",\"Units of Measure\",\"MDL\",\"Uncertainty\",\"Qualifier\",\"Method Type\",\"Method Code\",\"Method Name\",\"State Name\",\"County Name\",\"Date of Last Change\"',\n",
       " u'\"01\",\"073\",\"0023\",\"88101\",3,33.553056,-86.815,\"WGS84\",\"PM2.5 - Local Conditions\",\"2015-01-01\",\"00:00\",\"2015-01-01\",\"06:00\",8,\"Micrograms/cubic meter (LC)\",2,\"\",\"\",\"FEM\",\"183\",\"Thermo Scientific 5014i or FH62C14-DHS w/VSCC - Beta Attenuation\",\"Alabama\",\"Jefferson\",\"2015-05-26\"']"
      ]
     },
     "execution_count": 16,
     "metadata": {},
     "output_type": "execute_result"
    }
   ],
   "source": [
    "data.take(2)"
   ]
  },
  {
   "cell_type": "code",
   "execution_count": 4,
   "metadata": {
    "collapsed": false
   },
   "outputs": [
    {
     "data": {
      "text/plain": [
       "3042446"
      ]
     },
     "execution_count": 4,
     "metadata": {},
     "output_type": "execute_result"
    }
   ],
   "source": [
    "data.count()"
   ]
  },
  {
   "cell_type": "code",
   "execution_count": 9,
   "metadata": {
    "collapsed": false
   },
   "outputs": [
    {
     "data": {
      "text/plain": [
       "2973"
      ]
     },
     "execution_count": 9,
     "metadata": {},
     "output_type": "execute_result"
    }
   ],
   "source": [
    "sample.count()"
   ]
  },
  {
   "cell_type": "code",
   "execution_count": 23,
   "metadata": {
    "collapsed": false
   },
   "outputs": [
    {
     "data": {
      "text/plain": [
       "[[u'\"Jefferson\"',\n",
       "  u'\"2015-01-06\"',\n",
       "  u'6.6',\n",
       "  u'\"2015-05-26\"',\n",
       "  u'33.553056',\n",
       "  u'-86.815']]"
      ]
     },
     "execution_count": 23,
     "metadata": {},
     "output_type": "execute_result"
    }
   ],
   "source": [
    "sample.map(lambda x : x.split(',')).map(lambda x : [x[-2],x[-13],x[-11],x[-1],x[5],x[6]]).take(1)"
   ]
  },
  {
   "cell_type": "code",
   "execution_count": null,
   "metadata": {
    "collapsed": true
   },
   "outputs": [],
   "source": [
    "import s"
   ]
  }
 ],
 "metadata": {
  "anaconda-cloud": {},
  "kernelspec": {
   "display_name": "Python [default]",
   "language": "python",
   "name": "python2"
  },
  "language_info": {
   "codemirror_mode": {
    "name": "ipython",
    "version": 2
   },
   "file_extension": ".py",
   "mimetype": "text/x-python",
   "name": "python",
   "nbconvert_exporter": "python",
   "pygments_lexer": "ipython2",
   "version": "2.7.10"
  }
 },
 "nbformat": 4,
 "nbformat_minor": 0
}
