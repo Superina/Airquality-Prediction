{
 "cells": [
  {
   "cell_type": "code",
   "execution_count": 1,
   "metadata": {
    "collapsed": false
   },
   "outputs": [
    {
     "name": "stderr",
     "output_type": "stream",
     "text": [
      "Using TensorFlow backend.\n"
     ]
    }
   ],
   "source": [
    "%matplotlib inline\n",
    "\n",
    "import pandas as pd\n",
    "import numpy as np\n",
    "import seaborn as sns\n",
    "import matplotlib.pyplot as plt\n",
    "import folium\n",
    "from folium import plugins\n",
    "import fancyimpute"
   ]
  },
  {
   "cell_type": "code",
   "execution_count": 2,
   "metadata": {
    "collapsed": true
   },
   "outputs": [],
   "source": [
    "years = [2009,2010,2011,2012,2013,2014,2015]\n",
    "path ='/public/npatil4/dataMining/data/daily/combined_wide/'\n",
    "files = [path+'combined_wide_'+str(year)+'.csv' for year in years]"
   ]
  },
  {
   "cell_type": "code",
   "execution_count": 3,
   "metadata": {
    "collapsed": true
   },
   "outputs": [],
   "source": [
    "data = [pd.read_csv(file_name,sep='|') for file_name in files]"
   ]
  },
  {
   "cell_type": "code",
   "execution_count": 4,
   "metadata": {
    "collapsed": false
   },
   "outputs": [
    {
     "data": {
      "text/plain": [
       "[(148428, 18),\n",
       " (160416, 18),\n",
       " (157975, 18),\n",
       " (168291, 18),\n",
       " (184197, 18),\n",
       " (196085, 18),\n",
       " (206363, 18)]"
      ]
     },
     "execution_count": 4,
     "metadata": {},
     "output_type": "execute_result"
    }
   ],
   "source": [
    "[df.shape for df in data]"
   ]
  },
  {
   "cell_type": "code",
   "execution_count": 5,
   "metadata": {
    "collapsed": false
   },
   "outputs": [],
   "source": [
    "data= pd.concat(data, ignore_index=True)"
   ]
  },
  {
   "cell_type": "code",
   "execution_count": 6,
   "metadata": {
    "collapsed": false
   },
   "outputs": [],
   "source": [
    "data['DateLocal'] = pd.to_datetime(data.DateLocal)\n",
    "data['year'] = data.DateLocal.dt.year\n",
    "data['weekNo'] = data.DateLocal.dt.week\n",
    "data['Weekday'] = data.DateLocal.dt.weekday"
   ]
  },
  {
   "cell_type": "code",
   "execution_count": 7,
   "metadata": {
    "collapsed": false
   },
   "outputs": [
    {
     "data": {
      "text/html": [
       "<div>\n",
       "<table border=\"1\" class=\"dataframe\">\n",
       "  <thead>\n",
       "    <tr style=\"text-align: right;\">\n",
       "      <th></th>\n",
       "      <th>0</th>\n",
       "      <th>1</th>\n",
       "    </tr>\n",
       "  </thead>\n",
       "  <tbody>\n",
       "    <tr>\n",
       "      <th>DateLocal</th>\n",
       "      <td>2009-01-01 00:00:00</td>\n",
       "      <td>2009-01-01 00:00:00</td>\n",
       "    </tr>\n",
       "    <tr>\n",
       "      <th>CityName</th>\n",
       "      <td>Aberdeen</td>\n",
       "      <td>Adjuntas</td>\n",
       "    </tr>\n",
       "    <tr>\n",
       "      <th>CountyName</th>\n",
       "      <td>Brown</td>\n",
       "      <td>Adjuntas</td>\n",
       "    </tr>\n",
       "    <tr>\n",
       "      <th>StateName</th>\n",
       "      <td>South Dakota</td>\n",
       "      <td>Puerto Rico</td>\n",
       "    </tr>\n",
       "    <tr>\n",
       "      <th>Latitude</th>\n",
       "      <td>45.4625</td>\n",
       "      <td>18.17538</td>\n",
       "    </tr>\n",
       "    <tr>\n",
       "      <th>Longitude</th>\n",
       "      <td>-98.48611</td>\n",
       "      <td>-66.72599</td>\n",
       "    </tr>\n",
       "    <tr>\n",
       "      <th>Barometricpressure</th>\n",
       "      <td>NaN</td>\n",
       "      <td>NaN</td>\n",
       "    </tr>\n",
       "    <tr>\n",
       "      <th>Carbonmonoxide</th>\n",
       "      <td>NaN</td>\n",
       "      <td>NaN</td>\n",
       "    </tr>\n",
       "    <tr>\n",
       "      <th>DewPoint</th>\n",
       "      <td>NaN</td>\n",
       "      <td>NaN</td>\n",
       "    </tr>\n",
       "    <tr>\n",
       "      <th>NitrogenDioxide</th>\n",
       "      <td>NaN</td>\n",
       "      <td>NaN</td>\n",
       "    </tr>\n",
       "    <tr>\n",
       "      <th>OutdoorTemperature</th>\n",
       "      <td>NaN</td>\n",
       "      <td>NaN</td>\n",
       "    </tr>\n",
       "    <tr>\n",
       "      <th>Ozone</th>\n",
       "      <td>NaN</td>\n",
       "      <td>NaN</td>\n",
       "    </tr>\n",
       "    <tr>\n",
       "      <th>PM</th>\n",
       "      <td>5.2</td>\n",
       "      <td>3.9</td>\n",
       "    </tr>\n",
       "    <tr>\n",
       "      <th>RelativeHumidity</th>\n",
       "      <td>NaN</td>\n",
       "      <td>NaN</td>\n",
       "    </tr>\n",
       "    <tr>\n",
       "      <th>Sulfurdioxide</th>\n",
       "      <td>NaN</td>\n",
       "      <td>NaN</td>\n",
       "    </tr>\n",
       "    <tr>\n",
       "      <th>WindSpeed</th>\n",
       "      <td>NaN</td>\n",
       "      <td>NaN</td>\n",
       "    </tr>\n",
       "    <tr>\n",
       "      <th>Month</th>\n",
       "      <td>1</td>\n",
       "      <td>1</td>\n",
       "    </tr>\n",
       "    <tr>\n",
       "      <th>Weekday</th>\n",
       "      <td>3</td>\n",
       "      <td>3</td>\n",
       "    </tr>\n",
       "    <tr>\n",
       "      <th>year</th>\n",
       "      <td>2009</td>\n",
       "      <td>2009</td>\n",
       "    </tr>\n",
       "    <tr>\n",
       "      <th>weekNo</th>\n",
       "      <td>1</td>\n",
       "      <td>1</td>\n",
       "    </tr>\n",
       "  </tbody>\n",
       "</table>\n",
       "</div>"
      ],
      "text/plain": [
       "                                      0                    1\n",
       "DateLocal           2009-01-01 00:00:00  2009-01-01 00:00:00\n",
       "CityName                       Aberdeen             Adjuntas\n",
       "CountyName                        Brown             Adjuntas\n",
       "StateName                  South Dakota          Puerto Rico\n",
       "Latitude                        45.4625             18.17538\n",
       "Longitude                     -98.48611            -66.72599\n",
       "Barometricpressure                  NaN                  NaN\n",
       "Carbonmonoxide                      NaN                  NaN\n",
       "DewPoint                            NaN                  NaN\n",
       "NitrogenDioxide                     NaN                  NaN\n",
       "OutdoorTemperature                  NaN                  NaN\n",
       "Ozone                               NaN                  NaN\n",
       "PM                                  5.2                  3.9\n",
       "RelativeHumidity                    NaN                  NaN\n",
       "Sulfurdioxide                       NaN                  NaN\n",
       "WindSpeed                           NaN                  NaN\n",
       "Month                                 1                    1\n",
       "Weekday                               3                    3\n",
       "year                               2009                 2009\n",
       "weekNo                                1                    1"
      ]
     },
     "execution_count": 7,
     "metadata": {},
     "output_type": "execute_result"
    }
   ],
   "source": [
    "data.head(2).transpose()"
   ]
  },
  {
   "cell_type": "code",
   "execution_count": 8,
   "metadata": {
    "collapsed": false
   },
   "outputs": [],
   "source": [
    "data_missing = data.apply(pd.isnull)"
   ]
  },
  {
   "cell_type": "code",
   "execution_count": 9,
   "metadata": {
    "collapsed": false,
    "scrolled": true
   },
   "outputs": [
    {
     "data": {
      "text/plain": [
       "Barometricpressure    81.756326\n",
       "Carbonmonoxide        76.663324\n",
       "DewPoint              98.023335\n",
       "NitrogenDioxide       70.833923\n",
       "OutdoorTemperature    66.338505\n",
       "Ozone                 54.405752\n",
       "PM                     0.000000\n",
       "RelativeHumidity      78.592762\n",
       "Sulfurdioxide         72.999251\n",
       "WindSpeed             71.541185\n",
       "dtype: float64"
      ]
     },
     "execution_count": 9,
     "metadata": {},
     "output_type": "execute_result"
    }
   ],
   "source": [
    "100 * data_missing.ix[:,6:-4].apply(sum)/data_missing.shape[0]"
   ]
  },
  {
   "cell_type": "code",
   "execution_count": 10,
   "metadata": {
    "collapsed": false
   },
   "outputs": [],
   "source": [
    "data_missing_count = data_missing.ix[:,6:-4].apply(sum,1).groupby([data.CountyName,\n",
    "                                                                   data.CityName]\n",
    "                                                                 ).mean()\n",
    "data_missing_count = pd.DataFrame(data_missing_count[data_missing_count>=8]).reset_index()"
   ]
  },
  {
   "cell_type": "code",
   "execution_count": 11,
   "metadata": {
    "collapsed": true
   },
   "outputs": [],
   "source": [
    "data_pol = data.ix[:,:-4].groupby([\n",
    "       'CityName', 'CountyName',\n",
    "        'Latitude','Longitude'],\n",
    "        as_index=False).mean()"
   ]
  },
  {
   "cell_type": "code",
   "execution_count": null,
   "metadata": {
    "collapsed": true
   },
   "outputs": [],
   "source": [
    "pollution_heatmap = folium.Map(location=[data_pol['Latitude'].mean(),\n",
    "                                         data_pol['Longitude'].mean()],\n",
    "                               zoom_start=4)\n",
    "pollution_heatmap.add_children(\n",
    "    plugins.HeatMap(\n",
    "        [[row[\"Latitude\"], row[\"Longitude\"],row['PM']]\n",
    "         for name, row in data_pol.iterrows()]\n",
    "    ))\n",
    "pollution_heatmap.save(\"heatmap.html\")\n",
    "pollution_heatmap"
   ]
  },
  {
   "cell_type": "code",
   "execution_count": 13,
   "metadata": {
    "collapsed": false
   },
   "outputs": [],
   "source": [
    "data_pol = data.ix[:,:-4].groupby([\n",
    "       'DateLocal',\n",
    "       'CityName', 'CountyName',\n",
    "       'Latitude','Longitude'],\n",
    "        as_index=False).mean()\n"
   ]
  },
  {
   "cell_type": "code",
   "execution_count": 14,
   "metadata": {
    "collapsed": false
   },
   "outputs": [],
   "source": [
    "columns = [\n",
    " 'Carbonmonoxide',\n",
    " 'DewPoint',\n",
    " 'NitrogenDioxide',\n",
    " 'OutdoorTemperature',\n",
    " 'Ozone',\n",
    " 'PM',\n",
    " 'RelativeHumidity',\n",
    " 'Sulfurdioxide'\n",
    "]"
   ]
  },
  {
   "cell_type": "code",
   "execution_count": 15,
   "metadata": {
    "collapsed": false
   },
   "outputs": [
    {
     "data": {
      "text/html": [
       "<div>\n",
       "<table border=\"1\" class=\"dataframe\">\n",
       "  <thead>\n",
       "    <tr style=\"text-align: right;\">\n",
       "      <th></th>\n",
       "      <th>Carbonmonoxide</th>\n",
       "      <th>DewPoint</th>\n",
       "      <th>NitrogenDioxide</th>\n",
       "      <th>OutdoorTemperature</th>\n",
       "      <th>Ozone</th>\n",
       "      <th>PM</th>\n",
       "      <th>RelativeHumidity</th>\n",
       "      <th>Sulfurdioxide</th>\n",
       "    </tr>\n",
       "  </thead>\n",
       "  <tbody>\n",
       "    <tr>\n",
       "      <th>0</th>\n",
       "      <td>NaN</td>\n",
       "      <td>NaN</td>\n",
       "      <td>NaN</td>\n",
       "      <td>NaN</td>\n",
       "      <td>NaN</td>\n",
       "      <td>5.20</td>\n",
       "      <td>NaN</td>\n",
       "      <td>NaN</td>\n",
       "    </tr>\n",
       "    <tr>\n",
       "      <th>1</th>\n",
       "      <td>NaN</td>\n",
       "      <td>NaN</td>\n",
       "      <td>NaN</td>\n",
       "      <td>NaN</td>\n",
       "      <td>NaN</td>\n",
       "      <td>3.90</td>\n",
       "      <td>NaN</td>\n",
       "      <td>NaN</td>\n",
       "    </tr>\n",
       "    <tr>\n",
       "      <th>2</th>\n",
       "      <td>NaN</td>\n",
       "      <td>NaN</td>\n",
       "      <td>NaN</td>\n",
       "      <td>NaN</td>\n",
       "      <td>NaN</td>\n",
       "      <td>7.90</td>\n",
       "      <td>NaN</td>\n",
       "      <td>2.576708</td>\n",
       "    </tr>\n",
       "    <tr>\n",
       "      <th>3</th>\n",
       "      <td>NaN</td>\n",
       "      <td>NaN</td>\n",
       "      <td>NaN</td>\n",
       "      <td>NaN</td>\n",
       "      <td>NaN</td>\n",
       "      <td>7.90</td>\n",
       "      <td>NaN</td>\n",
       "      <td>NaN</td>\n",
       "    </tr>\n",
       "    <tr>\n",
       "      <th>4</th>\n",
       "      <td>NaN</td>\n",
       "      <td>NaN</td>\n",
       "      <td>NaN</td>\n",
       "      <td>NaN</td>\n",
       "      <td>NaN</td>\n",
       "      <td>4.95</td>\n",
       "      <td>NaN</td>\n",
       "      <td>NaN</td>\n",
       "    </tr>\n",
       "  </tbody>\n",
       "</table>\n",
       "</div>"
      ],
      "text/plain": [
       "   Carbonmonoxide  DewPoint  NitrogenDioxide  OutdoorTemperature  Ozone    PM  \\\n",
       "0             NaN       NaN              NaN                 NaN    NaN  5.20   \n",
       "1             NaN       NaN              NaN                 NaN    NaN  3.90   \n",
       "2             NaN       NaN              NaN                 NaN    NaN  7.90   \n",
       "3             NaN       NaN              NaN                 NaN    NaN  7.90   \n",
       "4             NaN       NaN              NaN                 NaN    NaN  4.95   \n",
       "\n",
       "   RelativeHumidity  Sulfurdioxide  \n",
       "0               NaN            NaN  \n",
       "1               NaN            NaN  \n",
       "2               NaN       2.576708  \n",
       "3               NaN            NaN  \n",
       "4               NaN            NaN  "
      ]
     },
     "execution_count": 15,
     "metadata": {},
     "output_type": "execute_result"
    }
   ],
   "source": [
    "X_incomplete = data_pol.ix[:,columns]\n",
    "X_incomplete.head()"
   ]
  },
  {
   "cell_type": "code",
   "execution_count": 16,
   "metadata": {
    "collapsed": false
   },
   "outputs": [
    {
     "data": {
      "text/plain": [
       "(1221755, 8)"
      ]
     },
     "execution_count": 16,
     "metadata": {},
     "output_type": "execute_result"
    }
   ],
   "source": [
    "X_incomplete.shape"
   ]
  },
  {
   "cell_type": "code",
   "execution_count": null,
   "metadata": {
    "collapsed": true
   },
   "outputs": [],
   "source": [
    "from fancyimpute import BiScaler, KNN, NuclearNormMinimization, SoftImpute, MICE\n",
    "\n",
    "filled_path = '../data/daily/combined_wide/combined_wide_all_filled_'\n",
    "\n",
    "print('SoftImpute')\n",
    "\n",
    "X_filled_si = SoftImpute(n_power_iterations=5,\n",
    "                         max_iters=250,\n",
    "                         init_fill_method='mean').complete(X_incomplete)\n",
    "\n",
    "X_filled_si = pd.DataFrame(X_filled_si)\n",
    "X_filled_si.columns = columns\n",
    "X_filled_si.to_csv(filled_path+'si.txt',sep='|',index=False)\n",
    "\n",
    "print('MICE')\n",
    "\n",
    "z = MICE2(n_pmm_neighbors=100,\n",
    "          n_imputations=250,\n",
    "          init_fill_method='median',\n",
    "          verbose=False).complete(X_incomplete)\n",
    "\n",
    "missing_data = np.array(z[0])\n",
    "missing_bool = z[1]\n",
    "missing_replacement = z[2]\n",
    "np.putmask(missing_data,missing_bool,missing_replacement)\n",
    "X_filled_mice = pd.DataFrame(missing_data)\n",
    "X_filled_mice.columns = columns\n",
    "X_filled_mice.to_csv(path_filled+'mice.txt',sep='|',index=False)\n",
    "\n",
    "print('KNN')\n",
    "X_filled_knn = KNN(k=100).complete(X_incomplete)\n",
    "X_filled_knn = pd.DataFrame(X_filled_knn)\n",
    "X_filled_knn.columns = columns\n",
    "X_filled_knn.to_csv(path_filled+'knn.txt',sep='|',index=False)\n",
    "\n",
    "print('nnm')\n",
    "X_filled_nnm = pd.DataFrame(NuclearNormMinimization().complete(X_incomplete))\n",
    "X_filled_nnm.columns = columns\n",
    "X_filled_nnm.to_csv(path_filled+'nnm.txt',sep='|',index=False)"
   ]
  },
  {
   "cell_type": "code",
   "execution_count": 22,
   "metadata": {
    "collapsed": false
   },
   "outputs": [
    {
     "data": {
      "text/html": [
       "<div>\n",
       "<table border=\"1\" class=\"dataframe\">\n",
       "  <thead>\n",
       "    <tr style=\"text-align: right;\">\n",
       "      <th></th>\n",
       "      <th>Carbonmonoxide</th>\n",
       "      <th>DewPoint</th>\n",
       "      <th>NitrogenDioxide</th>\n",
       "      <th>OutdoorTemperature</th>\n",
       "      <th>Ozone</th>\n",
       "      <th>PM</th>\n",
       "      <th>RelativeHumidity</th>\n",
       "      <th>Sulfurdioxide</th>\n",
       "    </tr>\n",
       "  </thead>\n",
       "  <tbody>\n",
       "    <tr>\n",
       "      <th>0</th>\n",
       "      <td>0.063618</td>\n",
       "      <td>0.425478</td>\n",
       "      <td>1.502567</td>\n",
       "      <td>1.523767</td>\n",
       "      <td>0.006282</td>\n",
       "      <td>5.20</td>\n",
       "      <td>1.377421</td>\n",
       "      <td>0.442094</td>\n",
       "    </tr>\n",
       "    <tr>\n",
       "      <th>1</th>\n",
       "      <td>0.047714</td>\n",
       "      <td>0.319108</td>\n",
       "      <td>1.126925</td>\n",
       "      <td>1.142825</td>\n",
       "      <td>0.004712</td>\n",
       "      <td>3.90</td>\n",
       "      <td>1.033066</td>\n",
       "      <td>0.331571</td>\n",
       "    </tr>\n",
       "    <tr>\n",
       "      <th>2</th>\n",
       "      <td>0.102734</td>\n",
       "      <td>0.612010</td>\n",
       "      <td>2.501234</td>\n",
       "      <td>2.330388</td>\n",
       "      <td>0.010028</td>\n",
       "      <td>7.90</td>\n",
       "      <td>2.128413</td>\n",
       "      <td>2.576708</td>\n",
       "    </tr>\n",
       "    <tr>\n",
       "      <th>3</th>\n",
       "      <td>0.096651</td>\n",
       "      <td>0.646399</td>\n",
       "      <td>2.282745</td>\n",
       "      <td>2.314953</td>\n",
       "      <td>0.009544</td>\n",
       "      <td>7.90</td>\n",
       "      <td>2.092620</td>\n",
       "      <td>0.671643</td>\n",
       "    </tr>\n",
       "    <tr>\n",
       "      <th>4</th>\n",
       "      <td>0.060560</td>\n",
       "      <td>0.405022</td>\n",
       "      <td>1.430328</td>\n",
       "      <td>1.450508</td>\n",
       "      <td>0.005980</td>\n",
       "      <td>4.95</td>\n",
       "      <td>1.311199</td>\n",
       "      <td>0.420840</td>\n",
       "    </tr>\n",
       "  </tbody>\n",
       "</table>\n",
       "</div>"
      ],
      "text/plain": [
       "   Carbonmonoxide  DewPoint  NitrogenDioxide  OutdoorTemperature     Ozone  \\\n",
       "0        0.063618  0.425478         1.502567            1.523767  0.006282   \n",
       "1        0.047714  0.319108         1.126925            1.142825  0.004712   \n",
       "2        0.102734  0.612010         2.501234            2.330388  0.010028   \n",
       "3        0.096651  0.646399         2.282745            2.314953  0.009544   \n",
       "4        0.060560  0.405022         1.430328            1.450508  0.005980   \n",
       "\n",
       "     PM  RelativeHumidity  Sulfurdioxide  \n",
       "0  5.20          1.377421       0.442094  \n",
       "1  3.90          1.033066       0.331571  \n",
       "2  7.90          2.128413       2.576708  \n",
       "3  7.90          2.092620       0.671643  \n",
       "4  4.95          1.311199       0.420840  "
      ]
     },
     "execution_count": 22,
     "metadata": {},
     "output_type": "execute_result"
    }
   ],
   "source": [
    "data_model = pd.read_csv('../data/daily/combined_wide/combined_wide_all_filled_si.txt',sep='|')\n",
    "data_model.head()"
   ]
  },
  {
   "cell_type": "code",
   "execution_count": 23,
   "metadata": {
    "collapsed": false
   },
   "outputs": [],
   "source": [
    "data_model['CityName'] = data_pol.CityName\n",
    "data_model['CityName'] = data_model.CityName.astype('category')\n",
    "data_model['date'] = data_pol.DateLocal\n",
    "data_model['weekNo'] = data_model.date.dt.weekofyear\n",
    "data_model['weekNo'] = data_model.weekNo.astype('category')\n",
    "data_model['monthNo'] = data_model.date.dt.month\n",
    "data_model['monthNo'] = data_model.monthNo.astype('category')\n",
    "data_model['pm_mean_month'] = data_model.PM.groupby([data_model.CityName,\n",
    "                                                     data_model.monthNo]).transform('mean')\n",
    "data_model['pm_mean_weekNo'] = data_model.PM.groupby([data_model.CityName,\n",
    "                                                     data_model.weekNo]).transform('mean')"
   ]
  },
  {
   "cell_type": "code",
   "execution_count": 24,
   "metadata": {
    "collapsed": false
   },
   "outputs": [],
   "source": [
    "RandomState = 42\n",
    "train = data_model.sample(frac=0.7,random_state=RandomState)\n",
    "test = data_model[~(data_model.index.isin(train.index))]"
   ]
  },
  {
   "cell_type": "code",
   "execution_count": 25,
   "metadata": {
    "collapsed": true
   },
   "outputs": [],
   "source": [
    "columns = ['Carbonmonoxide',\n",
    "           'DewPoint',\n",
    "           'NitrogenDioxide',\n",
    "           'OutdoorTemperature',\n",
    "           'Ozone',\n",
    "           'RelativeHumidity',\n",
    "           'Sulfurdioxide',\n",
    "           'pm_mean_month',\n",
    "           'pm_mean_weekNo']"
   ]
  },
  {
   "cell_type": "code",
   "execution_count": null,
   "metadata": {
    "collapsed": false
   },
   "outputs": [],
   "source": [
    "sns.plt.figure(figsize=(9,9))\n",
    "sns.set_style('whitegrid')\n",
    "sns.pairplot(data_model[columns+['PM']],\n",
    "             diag_kind='kde')\n",
    "\n",
    "sns.plt.savefig('../plots/PairPlot.png',dpi=750)"
   ]
  }
 ],
 "metadata": {
  "kernelspec": {
   "display_name": "Python 2 (tensorflow)",
   "language": "python",
   "name": "python-2.7.10-b1-tensorflow"
  },
  "language_info": {
   "codemirror_mode": {
    "name": "ipython",
    "version": 2
   },
   "file_extension": ".py",
   "mimetype": "text/x-python",
   "name": "python",
   "nbconvert_exporter": "python",
   "pygments_lexer": "ipython2",
   "version": "2.7.10"
  },
  "widgets": {
   "state": {},
   "version": "1.1.2"
  }
 },
 "nbformat": 4,
 "nbformat_minor": 0
}
