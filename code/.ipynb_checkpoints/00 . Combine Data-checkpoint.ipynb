{
 "cells": [
  {
   "cell_type": "markdown",
   "metadata": {},
   "source": [
    "1. Download daily-level zips in a different folder for each year\n",
    "\n",
    "2. Extract them and name them as shown in the folder (/public/npatil4/dataMining/data/daily/csv/2015)\n",
    "\n",
    "3. run the following code for each year"
   ]
  },
  {
   "cell_type": "code",
   "execution_count": 18,
   "metadata": {
    "collapsed": true
   },
   "outputs": [],
   "source": [
    "%matplotlib inline"
   ]
  },
  {
   "cell_type": "code",
   "execution_count": 19,
   "metadata": {
    "collapsed": false
   },
   "outputs": [],
   "source": [
    "import pandas as pd\n",
    "import numpy as np\n",
    "import seaborn as sns\n",
    "import folium\n",
    "import matplotlib.pyplot as plt\n",
    "import pandas_profiling as pf"
   ]
  },
  {
   "cell_type": "code",
   "execution_count": 29,
   "metadata": {
    "collapsed": true
   },
   "outputs": [],
   "source": [
    "year = 2015\n",
    "path = '/public/npatil4/dataMining/data/daily/csv/'+str(year)\n",
    "path_combined = '/public/npatil4/dataMining/data/daily/combined_long/'"
   ]
  },
  {
   "cell_type": "code",
   "execution_count": 30,
   "metadata": {
    "collapsed": false
   },
   "outputs": [
    {
     "data": {
      "text/plain": [
       "'/public/npatil4/dataMining/data/daily/csv/2015'"
      ]
     },
     "execution_count": 30,
     "metadata": {},
     "output_type": "execute_result"
    }
   ],
   "source": [
    "path"
   ]
  },
  {
   "cell_type": "code",
   "execution_count": 20,
   "metadata": {
    "collapsed": false
   },
   "outputs": [],
   "source": [
    "# Particulate(frm)\n",
    "file_part = 'daily_part_'+str(year)+'_frm.csv'\n",
    "file_rh = 'daily_RH_DP_'+str(year)+'.csv'\n",
    "file_temp = 'daily_TEMP_'+str(year)+'.csv'\n",
    "file_press = 'daily_PRESS_'+str(year)+'.csv'\n",
    "file_wind = 'daily_WIND_'+str(year)+'.csv'\n",
    "file_co = 'daily_co_'+str(year)+'.csv'\n",
    "file_no2 = 'daily_no2_'+str(year)+'.csv'\n",
    "file_ozone = 'daily_ozone_'+str(year)+'.csv'\n",
    "file_so2 = 'daily_so2_'+str(year)+'.csv'"
   ]
  },
  {
   "cell_type": "code",
   "execution_count": 21,
   "metadata": {
    "collapsed": true
   },
   "outputs": [],
   "source": [
    "part = pd.read_csv(path+file_part)\n",
    "rh = pd.read_csv(path+file_rh)\n",
    "temp = pd.read_csv(path+file_temp)\n",
    "press = pd.read_csv(path+file_press)\n",
    "wind = pd.read_csv(path+file_wind)\n",
    "co = pd.read_csv(path+file_co)\n",
    "no2 = pd.read_csv(path+file_no2)\n",
    "ozone = pd.read_csv(path+file_ozone)\n",
    "so2 = pd.read_csv(path+file_so2)"
   ]
  },
  {
   "cell_type": "code",
   "execution_count": 22,
   "metadata": {
    "collapsed": false
   },
   "outputs": [],
   "source": [
    "columns = ['Date Local','City Name','County Name',\n",
    "            'State Name','Latitude','Longitude',\n",
    "            'Parameter Name','Method Name',\n",
    "            'Arithmetic Mean']"
   ]
  },
  {
   "cell_type": "code",
   "execution_count": 23,
   "metadata": {
    "collapsed": true
   },
   "outputs": [],
   "source": [
    "result_list = [rh[columns],\n",
    "               temp[columns],\n",
    "               press[columns],\n",
    "               wind[columns],\n",
    "               co[columns],\n",
    "               no2[columns],\n",
    "               ozone[columns],\n",
    "               so2[columns]]"
   ]
  },
  {
   "cell_type": "code",
   "execution_count": 24,
   "metadata": {
    "collapsed": false
   },
   "outputs": [],
   "source": [
    "data_combined = part[columns].append(\n",
    "           [rh[columns],\n",
    "            temp[columns],\n",
    "            press[columns],\n",
    "            wind[columns],\n",
    "            co[columns],\n",
    "            no2[columns],\n",
    "            ozone[columns],\n",
    "            so2[columns]],\n",
    "            ignore_index=True)"
   ]
  },
  {
   "cell_type": "code",
   "execution_count": 25,
   "metadata": {
    "collapsed": false
   },
   "outputs": [
    {
     "data": {
      "text/html": [
       "<div>\n",
       "<table border=\"1\" class=\"dataframe\">\n",
       "  <thead>\n",
       "    <tr style=\"text-align: right;\">\n",
       "      <th></th>\n",
       "      <th>0</th>\n",
       "      <th>1</th>\n",
       "    </tr>\n",
       "  </thead>\n",
       "  <tbody>\n",
       "    <tr>\n",
       "      <th>Date Local</th>\n",
       "      <td>2015-01-03</td>\n",
       "      <td>2015-01-06</td>\n",
       "    </tr>\n",
       "    <tr>\n",
       "      <th>City Name</th>\n",
       "      <td>Fairhope</td>\n",
       "      <td>Fairhope</td>\n",
       "    </tr>\n",
       "    <tr>\n",
       "      <th>County Name</th>\n",
       "      <td>Baldwin</td>\n",
       "      <td>Baldwin</td>\n",
       "    </tr>\n",
       "    <tr>\n",
       "      <th>State Name</th>\n",
       "      <td>Alabama</td>\n",
       "      <td>Alabama</td>\n",
       "    </tr>\n",
       "    <tr>\n",
       "      <th>Latitude</th>\n",
       "      <td>30.498</td>\n",
       "      <td>30.498</td>\n",
       "    </tr>\n",
       "    <tr>\n",
       "      <th>Longitude</th>\n",
       "      <td>-87.8814</td>\n",
       "      <td>-87.8814</td>\n",
       "    </tr>\n",
       "    <tr>\n",
       "      <th>Parameter Name</th>\n",
       "      <td>PM2.5 - Local Conditions</td>\n",
       "      <td>PM2.5 - Local Conditions</td>\n",
       "    </tr>\n",
       "    <tr>\n",
       "      <th>Method Name</th>\n",
       "      <td>R &amp; P Model 2025 PM2.5 Sequential w/WINS - GRA...</td>\n",
       "      <td>R &amp; P Model 2025 PM2.5 Sequential w/WINS - GRA...</td>\n",
       "    </tr>\n",
       "    <tr>\n",
       "      <th>Arithmetic Mean</th>\n",
       "      <td>6.8</td>\n",
       "      <td>11.5</td>\n",
       "    </tr>\n",
       "  </tbody>\n",
       "</table>\n",
       "</div>"
      ],
      "text/plain": [
       "                                                                 0  \\\n",
       "Date Local                                              2015-01-03   \n",
       "City Name                                                 Fairhope   \n",
       "County Name                                                Baldwin   \n",
       "State Name                                                 Alabama   \n",
       "Latitude                                                    30.498   \n",
       "Longitude                                                 -87.8814   \n",
       "Parameter Name                            PM2.5 - Local Conditions   \n",
       "Method Name      R & P Model 2025 PM2.5 Sequential w/WINS - GRA...   \n",
       "Arithmetic Mean                                                6.8   \n",
       "\n",
       "                                                                 1  \n",
       "Date Local                                              2015-01-06  \n",
       "City Name                                                 Fairhope  \n",
       "County Name                                                Baldwin  \n",
       "State Name                                                 Alabama  \n",
       "Latitude                                                    30.498  \n",
       "Longitude                                                 -87.8814  \n",
       "Parameter Name                            PM2.5 - Local Conditions  \n",
       "Method Name      R & P Model 2025 PM2.5 Sequential w/WINS - GRA...  \n",
       "Arithmetic Mean                                               11.5  "
      ]
     },
     "execution_count": 25,
     "metadata": {},
     "output_type": "execute_result"
    }
   ],
   "source": [
    "data_combined.head(2).transpose()"
   ]
  },
  {
   "cell_type": "code",
   "execution_count": 26,
   "metadata": {
    "collapsed": false
   },
   "outputs": [],
   "source": [
    "data_combined['Date Local'] = pd.to_datetime(data_combined['Date Local'])"
   ]
  },
  {
   "cell_type": "code",
   "execution_count": 27,
   "metadata": {
    "collapsed": false
   },
   "outputs": [],
   "source": [
    "data_combined_grouped = data_combined.groupby(by=columns[:7],\n",
    "                          as_index=False)['Arithmetic Mean'].mean()\n",
    "\n",
    "\n",
    "data_combined_grouped = data_combined_grouped[\n",
    "    data_combined_grouped['Parameter Name']!='Wind Direction - Resultant']\n",
    "data_combined_grouped = pd.DataFrame(data_combined_grouped)"
   ]
  },
  {
   "cell_type": "code",
   "execution_count": 28,
   "metadata": {
    "collapsed": true
   },
   "outputs": [],
   "source": [
    "data_combined_grouped.to_csv(path_combined+'combined_long_'+str(year)+'.csv',\n",
    "                             sep='|',\n",
    "                             index=False)"
   ]
  }
 ],
 "metadata": {
  "kernelspec": {
   "display_name": "Intel Python 2",
   "language": "python",
   "name": "intelpython-2.7.12"
  },
  "language_info": {
   "codemirror_mode": {
    "name": "ipython",
    "version": 2
   },
   "file_extension": ".py",
   "mimetype": "text/x-python",
   "name": "python",
   "nbconvert_exporter": "python",
   "pygments_lexer": "ipython2",
   "version": "2.7.12"
  },
  "widgets": {
   "state": {},
   "version": "1.1.2"
  }
 },
 "nbformat": 4,
 "nbformat_minor": 0
}
