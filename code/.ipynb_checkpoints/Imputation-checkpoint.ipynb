{
 "cells": [
  {
   "cell_type": "code",
   "execution_count": 3,
   "metadata": {
    "collapsed": false
   },
   "outputs": [],
   "source": [
    "data = sc.textFile(\"/public/npatil4/dataMining/data/daily/combined_wide/combined_wide_all.txt\")\n",
    "data = data.map(lambda x : x.split('|'))"
   ]
  },
  {
   "cell_type": "code",
   "execution_count": 23,
   "metadata": {
    "collapsed": false
   },
   "outputs": [
    {
     "data": {
      "text/plain": [
       "[u'DateLocal',\n",
       " u'CityName',\n",
       " u'CountyName',\n",
       " u'StateName',\n",
       " u'Latitude',\n",
       " u'Longitude',\n",
       " u'Barometricpressure',\n",
       " u'Carbonmonoxide',\n",
       " u'DewPoint',\n",
       " u'NitrogenDioxide',\n",
       " u'OutdoorTemperature',\n",
       " u'Ozone',\n",
       " u'PM',\n",
       " u'RelativeHumidity',\n",
       " u'Sulfurdioxide',\n",
       " u'WindSpeed',\n",
       " u'Month',\n",
       " u'Weekday',\n",
       " u'year',\n",
       " u'weekNo']"
      ]
     },
     "execution_count": 23,
     "metadata": {},
     "output_type": "execute_result"
    }
   ],
   "source": [
    "header  = data.first()\n",
    "header"
   ]
  },
  {
   "cell_type": "code",
   "execution_count": 32,
   "metadata": {
    "collapsed": false
   },
   "outputs": [],
   "source": [
    "data_framed = sqlContext.createDataFrame(data.filter(lambda x : x[0]!='DateLocal'),header)"
   ]
  },
  {
   "cell_type": "code",
   "execution_count": 33,
   "metadata": {
    "collapsed": false
   },
   "outputs": [
    {
     "data": {
      "text/plain": [
       "1221755"
      ]
     },
     "execution_count": 33,
     "metadata": {},
     "output_type": "execute_result"
    }
   ],
   "source": [
    "data_framed.count()"
   ]
  },
  {
   "cell_type": "code",
   "execution_count": 35,
   "metadata": {
    "collapsed": false
   },
   "outputs": [
    {
     "data": {
      "text/plain": [
       "[Row(DateLocal=u'2009-01-01', CityName=u'Aberdeen', CountyName=u'Brown', StateName=u'South Dakota', Latitude=u'45.4625', Longitude=u'-98.486111', Barometricpressure=u'', Carbonmonoxide=u'', DewPoint=u'', NitrogenDioxide=u'', OutdoorTemperature=u'', Ozone=u'', PM=u'5.2', RelativeHumidity=u'', Sulfurdioxide=u'', WindSpeed=u'', Month=u'1', Weekday=u'Thursday', year=u'2009', weekNo=u'1'),\n",
       " Row(DateLocal=u'2009-01-01', CityName=u'Adjuntas', CountyName=u'Adjuntas', StateName=u'Puerto Rico', Latitude=u'18.175378', Longitude=u'-66.725988', Barometricpressure=u'', Carbonmonoxide=u'', DewPoint=u'', NitrogenDioxide=u'', OutdoorTemperature=u'', Ozone=u'', PM=u'3.9', RelativeHumidity=u'', Sulfurdioxide=u'', WindSpeed=u'', Month=u'1', Weekday=u'Thursday', year=u'2009', weekNo=u'1')]"
      ]
     },
     "execution_count": 35,
     "metadata": {},
     "output_type": "execute_result"
    }
   ],
   "source": [
    "data_framed.head(2)"
   ]
  },
  {
   "cell_type": "code",
   "execution_count": 36,
   "metadata": {
    "collapsed": false
   },
   "outputs": [
    {
     "data": {
      "text/plain": [
       "[('DateLocal', 'string'),\n",
       " ('CityName', 'string'),\n",
       " ('CountyName', 'string'),\n",
       " ('StateName', 'string'),\n",
       " ('Latitude', 'string'),\n",
       " ('Longitude', 'string'),\n",
       " ('Barometricpressure', 'string'),\n",
       " ('Carbonmonoxide', 'string'),\n",
       " ('DewPoint', 'string'),\n",
       " ('NitrogenDioxide', 'string'),\n",
       " ('OutdoorTemperature', 'string'),\n",
       " ('Ozone', 'string'),\n",
       " ('PM', 'string'),\n",
       " ('RelativeHumidity', 'string'),\n",
       " ('Sulfurdioxide', 'string'),\n",
       " ('WindSpeed', 'string'),\n",
       " ('Month', 'string'),\n",
       " ('Weekday', 'string'),\n",
       " ('year', 'string'),\n",
       " ('weekNo', 'string')]"
      ]
     },
     "execution_count": 36,
     "metadata": {},
     "output_type": "execute_result"
    }
   ],
   "source": [
    "data_framed.dtypes"
   ]
  }
 ],
 "metadata": {
  "kernelspec": {
   "display_name": "Python 2 (spark)",
   "language": "python",
   "name": "python-2.7.10-b1-spark"
  },
  "language_info": {
   "codemirror_mode": {
    "name": "ipython",
    "version": 2
   },
   "file_extension": ".py",
   "mimetype": "text/x-python",
   "name": "python",
   "nbconvert_exporter": "python",
   "pygments_lexer": "ipython2",
   "version": "2.7.10"
  },
  "widgets": {
   "state": {},
   "version": "1.1.2"
  }
 },
 "nbformat": 4,
 "nbformat_minor": 0
}
